{
  "nbformat": 4,
  "nbformat_minor": 0,
  "metadata": {
    "colab": {
      "provenance": []
    },
    "kernelspec": {
      "name": "python3",
      "display_name": "Python 3"
    },
    "language_info": {
      "name": "python"
    }
  },
  "cells": [
    {
      "cell_type": "markdown",
      "source": [
        "# Python Basics Assignment 5"
      ],
      "metadata": {
        "id": "wlTEvMYkkk5O"
      }
    },
    {
      "cell_type": "markdown",
      "source": [
        "The assignment can be found at: [Assignment](https://drive.google.com/file/d/1fM3fWLFqQAgiOa3YY41ZRlEFzqA3vorL/view)"
      ],
      "metadata": {
        "id": "YgsY4EVqkp6N"
      }
    },
    {
      "cell_type": "markdown",
      "source": [
        "1. What does an empty dictionary's code look like?"
      ],
      "metadata": {
        "id": "WCt254wJlDL9"
      }
    },
    {
      "cell_type": "markdown",
      "source": [
        "Ans: An empty dictionary is often represented by two empty curly brackets `d = {}` or `d = dict()`"
      ],
      "metadata": {
        "id": "dpWTOj5ZlI0t"
      }
    },
    {
      "cell_type": "code",
      "source": [
        "# initializing a sample dictionary\n",
        "sample_dict = {}\n",
        " \n",
        "# Display a sample dictionary\n",
        "print(sample_dict)\n",
        " \n",
        "# print length of dictionary\n",
        "print(\"Length of sample dictionary: \", len(sample_dict))\n",
        " \n",
        "# print type of dictionary\n",
        "print(type(sample_dict))"
      ],
      "metadata": {
        "colab": {
          "base_uri": "https://localhost:8080/"
        },
        "id": "rPq6SZ8HmH-N",
        "outputId": "0a7a2b13-4abf-410d-c700-0d10f4f7fae3"
      },
      "execution_count": null,
      "outputs": [
        {
          "output_type": "stream",
          "name": "stdout",
          "text": [
            "{}\n",
            "Length of sample dictionary:  0\n",
            "<class 'dict'>\n"
          ]
        }
      ]
    },
    {
      "cell_type": "markdown",
      "source": [
        "2. What is the value of a dictionary value with the key &#39;foo&#39; and the value 42?"
      ],
      "metadata": {
        "id": "U_MzoZ2plsSL"
      }
    },
    {
      "cell_type": "code",
      "source": [
        "sample_dict = {'foo':42}"
      ],
      "metadata": {
        "id": "gxh5WScOkmqA"
      },
      "execution_count": null,
      "outputs": []
    },
    {
      "cell_type": "markdown",
      "source": [
        "3. What is the most significant distinction between a dictionary and a list?"
      ],
      "metadata": {
        "id": "hBWNW8rhnBB0"
      }
    },
    {
      "cell_type": "markdown",
      "source": [
        "Ans:\n",
        "* Dictionaries are represented by `{ }`, Dictionary elements are retrieved with the help of keys.<br>Dictionary in Python on the other hand is an unordered collection of data values, used to store data values like a map, which unlike other Data Types that hold only single value as an element, Dictionary holds key:value pair. Key-value is provided in the dictionary to make it more optimized. Each key-value pair in a Dictionary is separated by a colon :, whereas each key is separated by a ‘comma’.\n",
        "* Listes are represented by `[ ]`, List elements are retrieved with the help of indexes.<br>Lists are just like the arrays, declared in other languages. Lists need not be homogeneous always which makes it a most powerful tool in Python. A single list may contain DataTypes like Integers, Strings, as well as Objects. Lists are mutable, and hence, they can be altered even after their creation.\n",
        "\n"
      ],
      "metadata": {
        "id": "IUaSQi2Donik"
      }
    },
    {
      "cell_type": "code",
      "source": [
        "# initializing a sample dictionary\n",
        "sample_dict = {1: 'Value_1', 2: 'Value_1', 3: 'Value_1'}\n",
        "\n",
        "# Displaying sample dictionary\n",
        "print(\"Sample dictionary:\",sample_dict)\n",
        "\n",
        "# Retriving data from the dictionary using keys\n",
        "print(\"Value of key 1 is:\", sample_dict[1])\n",
        "print(\"Value of key 2 is:\", sample_dict[2])\n",
        "print(\"Value of key 3 is:\", sample_dict[1])\n",
        "\n",
        "# initializing a sample List\n",
        "sample_list = [0,1,2,3,4,5,6,7,8,9]\n",
        "\n",
        "# Displaying the List\n",
        "print(\"Sample list:\", sample_list)\n",
        "\n",
        "# Retriving data from the list\n",
        "print('Element at index 0 is: ',sample_list[0]) \n",
        "print('Element at index 1 is: ',sample_list[1]) \n",
        "print('Element at index 2 is: ',sample_list[2]) \n",
        "print('Element at index 3 is: ',sample_list[3]) \n",
        "print('Element at index 4 is: ',sample_list[4]) \n",
        "print('Element at index 5 is: ',sample_list[5]) \n",
        "print('Element at index 6 is: ',sample_list[6]) \n",
        "print('Element at index 7 is: ',sample_list[7]) \n",
        "print('Element at index 8 is: ',sample_list[8]) \n",
        "print('Element at index 9 is: ',sample_list[9]) "
      ],
      "metadata": {
        "colab": {
          "base_uri": "https://localhost:8080/"
        },
        "id": "Yv_BaUiVlc0f",
        "outputId": "085b2e13-bd84-4ef7-c8c4-3b330d9dac14"
      },
      "execution_count": null,
      "outputs": [
        {
          "output_type": "stream",
          "name": "stdout",
          "text": [
            "Sample dictionary: {1: 'Value_1', 2: 'Value_1', 3: 'Value_1'}\n",
            "Value of key 1 is: Value_1\n",
            "Value of key 2 is: Value_1\n",
            "Value of key 3 is: Value_1\n",
            "Sample list: [0, 1, 2, 3, 4, 5, 6, 7, 8, 9]\n",
            "Element at index 0 is:  0\n",
            "Element at index 1 is:  1\n",
            "Element at index 2 is:  2\n",
            "Element at index 3 is:  3\n",
            "Element at index 4 is:  4\n",
            "Element at index 5 is:  5\n",
            "Element at index 6 is:  6\n",
            "Element at index 7 is:  7\n",
            "Element at index 8 is:  8\n",
            "Element at index 9 is:  9\n"
          ]
        }
      ]
    },
    {
      "cell_type": "markdown",
      "source": [
        "4. What happens if you try to access `spam ['foo']` if spam is `{'bar':100}` ?\n",
        "\n",
        "---\n",
        "\n"
      ],
      "metadata": {
        "id": "-Tdo5gCnr6wR"
      }
    },
    {
      "cell_type": "markdown",
      "source": [
        "Ans: we will get a keyError `KeyError: 'foo'`."
      ],
      "metadata": {
        "id": "Kxw_IpTysIA5"
      }
    },
    {
      "cell_type": "code",
      "source": [
        "spam = {'bar': 100}\n",
        "spam ['foo']"
      ],
      "metadata": {
        "colab": {
          "base_uri": "https://localhost:8080/",
          "height": 183
        },
        "id": "YCj3GVipljpd",
        "outputId": "96722673-c291-4583-fc70-1592708ab20a"
      },
      "execution_count": null,
      "outputs": [
        {
          "output_type": "error",
          "ename": "KeyError",
          "evalue": "ignored",
          "traceback": [
            "\u001b[0;31m---------------------------------------------------------------------------\u001b[0m",
            "\u001b[0;31mKeyError\u001b[0m                                  Traceback (most recent call last)",
            "\u001b[0;32m<ipython-input-15-642d3309ed9c>\u001b[0m in \u001b[0;36m<module>\u001b[0;34m()\u001b[0m\n\u001b[1;32m      1\u001b[0m \u001b[0mspam\u001b[0m \u001b[0;34m=\u001b[0m \u001b[0;34m{\u001b[0m\u001b[0;34m'bar'\u001b[0m\u001b[0;34m:\u001b[0m \u001b[0;36m100\u001b[0m\u001b[0;34m}\u001b[0m\u001b[0;34m\u001b[0m\u001b[0;34m\u001b[0m\u001b[0m\n\u001b[0;32m----> 2\u001b[0;31m \u001b[0mspam\u001b[0m \u001b[0;34m[\u001b[0m\u001b[0;34m'foo'\u001b[0m\u001b[0;34m]\u001b[0m\u001b[0;34m\u001b[0m\u001b[0;34m\u001b[0m\u001b[0m\n\u001b[0m",
            "\u001b[0;31mKeyError\u001b[0m: 'foo'"
          ]
        }
      ]
    },
    {
      "cell_type": "markdown",
      "source": [
        "5. If a dictionary is stored in spam,what is the difference between the expressions 'cat' in spam and 'cat' in spam.keys() ?\n"
      ],
      "metadata": {
        "id": "cVWYRoVKsTzO"
      }
    },
    {
      "cell_type": "markdown",
      "source": [
        "Ans: There is no difference . The operator checks whether a value exits as a key in the dictionary or not."
      ],
      "metadata": {
        "id": "vdW6XT3usePq"
      }
    },
    {
      "cell_type": "markdown",
      "source": [
        "6. If a dictionary is stored in spam,what is the difference between the expressions 'cat' in spam and 'cat' in spam.values() ?"
      ],
      "metadata": {
        "id": "iHGZoWEbsnjk"
      }
    },
    {
      "cell_type": "markdown",
      "source": [
        "Ans: 'cat' in spam checks whether there is a 'cat' key in the dictionary, while 'cat' in spam.values() checks whether there is a value 'cat' for one of the keys in spam."
      ],
      "metadata": {
        "id": "5Ab1WW7hs6YG"
      }
    },
    {
      "cell_type": "markdown",
      "source": [
        "7. what is a shortcut for the following code ?<br>"
      ],
      "metadata": {
        "id": "QmJhYUb8tAYB"
      }
    },
    {
      "cell_type": "code",
      "source": [
        "if 'color' not in spam:\n",
        "  spam['color'] ='black'"
      ],
      "metadata": {
        "id": "MGG6flR4sFj7"
      },
      "execution_count": null,
      "outputs": []
    },
    {
      "cell_type": "code",
      "source": [
        "spam.setdefault('color','black')"
      ],
      "metadata": {
        "colab": {
          "base_uri": "https://localhost:8080/",
          "height": 35
        },
        "id": "giL77IriuLCs",
        "outputId": "08dceb8a-f51b-4d93-ef51-ec48ef864843"
      },
      "execution_count": null,
      "outputs": [
        {
          "output_type": "execute_result",
          "data": {
            "text/plain": [
              "'black'"
            ],
            "application/vnd.google.colaboratory.intrinsic+json": {
              "type": "string"
            }
          },
          "metadata": {},
          "execution_count": 17
        }
      ]
    },
    {
      "cell_type": "code",
      "source": [
        "if 'color' not in spam: spam['color'] ='black'\n",
        "\n",
        "spam.setdefault('color','black')"
      ],
      "metadata": {
        "colab": {
          "base_uri": "https://localhost:8080/",
          "height": 35
        },
        "id": "EqrLDcLmuMqS",
        "outputId": "3cf9e8b5-a4de-40be-bb7c-f3b79c88d927"
      },
      "execution_count": null,
      "outputs": [
        {
          "output_type": "execute_result",
          "data": {
            "text/plain": [
              "'black'"
            ],
            "application/vnd.google.colaboratory.intrinsic+json": {
              "type": "string"
            }
          },
          "metadata": {},
          "execution_count": 18
        }
      ]
    },
    {
      "cell_type": "markdown",
      "source": [
        "8. How do you 'pretty print' dictionary values using which modules and function ?"
      ],
      "metadata": {
        "id": "RCVXeLMbuTFJ"
      }
    },
    {
      "cell_type": "markdown",
      "source": [
        "Ans: we can pretty print a dictionary using three functions:\n",
        "\n",
        "1. pprint() function of pprint module\n",
        "2. dumps() method of json module\n",
        "3. dumps() method of yaml module"
      ],
      "metadata": {
        "id": "wRxBoUoducLQ"
      }
    },
    {
      "cell_type": "code",
      "source": [
        "sample_dict = [\n",
        "  {'Name': 'Sahil', 'Age': '22', 'Roll Number' : '12345', 'Residence': {'Country':'India', 'City': 'Mumbai'}},\n",
        "  {'Name': 'Kaushal', 'Age': '22', 'Roll Number' : '56789', 'Residence': {'Country':'India', 'City': 'Thane'}},\n",
        "  {'Name': 'Saurabh', 'Age': '22', 'Roll Number' : '13579', 'Residence': {'Country':'India', 'City': 'Panvel'}},\n",
        "  {'Name': 'Omkar', 'Age': '22', 'Roll Number' : '97531', 'Residence': {'Country':'India', 'City': 'Pune'}}\n",
        "]\n",
        "\n",
        "print('Printing using print() function\\n',sample_dict)\n",
        "print('-'*70)\n",
        "import pprint\n",
        "print('Printing using pprint() funciton')\n",
        "pprint.pprint(sample_dict)\n",
        "print('-'*70)\n",
        "import json\n",
        "dump = json.dumps(sample_dict, indent=4)\n",
        "print('Printing using dumps() method\\n', dump)\n",
        "print('-'*70)\n",
        "import yaml\n",
        "dump = yaml.dump(sample_dict)\n",
        "print('Printing using dump() method\\n', dump)"
      ],
      "metadata": {
        "colab": {
          "base_uri": "https://localhost:8080/"
        },
        "id": "RAySW95OuQcC",
        "outputId": "838990b4-24da-4852-ae91-be4cab5072c4"
      },
      "execution_count": null,
      "outputs": [
        {
          "output_type": "stream",
          "name": "stdout",
          "text": [
            "Printing using print() function\n",
            " [{'Name': 'Sahil', 'Age': '22', 'Roll Number': '12345', 'Residence': {'Country': 'India', 'City': 'Mumbai'}}, {'Name': 'Kaushal', 'Age': '22', 'Roll Number': '56789', 'Residence': {'Country': 'India', 'City': 'Thane'}}, {'Name': 'Saurabh', 'Age': '22', 'Roll Number': '13579', 'Residence': {'Country': 'India', 'City': 'Panvel'}}, {'Name': 'Omkar', 'Age': '22', 'Roll Number': '97531', 'Residence': {'Country': 'India', 'City': 'Pune'}}]\n",
            "----------------------------------------------------------------------\n",
            "Printing using pprint() funciton\n",
            "[{'Age': '22',\n",
            "  'Name': 'Sahil',\n",
            "  'Residence': {'City': 'Mumbai', 'Country': 'India'},\n",
            "  'Roll Number': '12345'},\n",
            " {'Age': '22',\n",
            "  'Name': 'Kaushal',\n",
            "  'Residence': {'City': 'Thane', 'Country': 'India'},\n",
            "  'Roll Number': '56789'},\n",
            " {'Age': '22',\n",
            "  'Name': 'Saurabh',\n",
            "  'Residence': {'City': 'Panvel', 'Country': 'India'},\n",
            "  'Roll Number': '13579'},\n",
            " {'Age': '22',\n",
            "  'Name': 'Omkar',\n",
            "  'Residence': {'City': 'Pune', 'Country': 'India'},\n",
            "  'Roll Number': '97531'}]\n",
            "----------------------------------------------------------------------\n",
            "Printing using dumps() method\n",
            " [\n",
            "    {\n",
            "        \"Name\": \"Sahil\",\n",
            "        \"Age\": \"22\",\n",
            "        \"Roll Number\": \"12345\",\n",
            "        \"Residence\": {\n",
            "            \"Country\": \"India\",\n",
            "            \"City\": \"Mumbai\"\n",
            "        }\n",
            "    },\n",
            "    {\n",
            "        \"Name\": \"Kaushal\",\n",
            "        \"Age\": \"22\",\n",
            "        \"Roll Number\": \"56789\",\n",
            "        \"Residence\": {\n",
            "            \"Country\": \"India\",\n",
            "            \"City\": \"Thane\"\n",
            "        }\n",
            "    },\n",
            "    {\n",
            "        \"Name\": \"Saurabh\",\n",
            "        \"Age\": \"22\",\n",
            "        \"Roll Number\": \"13579\",\n",
            "        \"Residence\": {\n",
            "            \"Country\": \"India\",\n",
            "            \"City\": \"Panvel\"\n",
            "        }\n",
            "    },\n",
            "    {\n",
            "        \"Name\": \"Omkar\",\n",
            "        \"Age\": \"22\",\n",
            "        \"Roll Number\": \"97531\",\n",
            "        \"Residence\": {\n",
            "            \"Country\": \"India\",\n",
            "            \"City\": \"Pune\"\n",
            "        }\n",
            "    }\n",
            "]\n",
            "----------------------------------------------------------------------\n",
            "Printing using dump() method\n",
            " - Age: '22'\n",
            "  Name: Sahil\n",
            "  Residence: {City: Mumbai, Country: India}\n",
            "  Roll Number: '12345'\n",
            "- Age: '22'\n",
            "  Name: Kaushal\n",
            "  Residence: {City: Thane, Country: India}\n",
            "  Roll Number: '56789'\n",
            "- Age: '22'\n",
            "  Name: Saurabh\n",
            "  Residence: {City: Panvel, Country: India}\n",
            "  Roll Number: '13579'\n",
            "- Age: '22'\n",
            "  Name: Omkar\n",
            "  Residence: {City: Pune, Country: India}\n",
            "  Roll Number: '97531'\n",
            "\n"
          ]
        }
      ]
    },
    {
      "cell_type": "code",
      "source": [],
      "metadata": {
        "id": "RJdjdCCZvixN"
      },
      "execution_count": null,
      "outputs": []
    }
  ]
}