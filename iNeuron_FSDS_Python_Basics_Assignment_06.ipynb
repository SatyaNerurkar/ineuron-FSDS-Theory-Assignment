{
  "nbformat": 4,
  "nbformat_minor": 0,
  "metadata": {
    "colab": {
      "provenance": []
    },
    "kernelspec": {
      "name": "python3",
      "display_name": "Python 3"
    },
    "language_info": {
      "name": "python"
    }
  },
  "cells": [
    {
      "cell_type": "markdown",
      "source": [
        "# Python Basics Assignment 6"
      ],
      "metadata": {
        "id": "bLqobpxWjL_2"
      }
    },
    {
      "cell_type": "markdown",
      "source": [
        "The assignment can be found at: [Assignment](https://drive.google.com/file/d/1QWVvv8aC4OcCHRHhXI2eY6l1K7Y60V2J/view)"
      ],
      "metadata": {
        "id": "fpss8hAdjTlR"
      }
    },
    {
      "cell_type": "markdown",
      "source": [
        "1. What are Escape characters ? and how do you use them ?"
      ],
      "metadata": {
        "id": "fw2eyyNojXSi"
      }
    },
    {
      "cell_type": "markdown",
      "source": [
        "Ans: Escape sequences allows us to include special characters in strings that would otherwise be difficult to type into code.<br>\n",
        "we can use the backslash `(\\)` to escape a single character or symbol.\n",
        "<br>E.g. `\\t` used to place tab in a line, `\\n` used to start a new line."
      ],
      "metadata": {
        "id": "Tc2TCctvkT1C"
      }
    },
    {
      "cell_type": "code",
      "execution_count": null,
      "metadata": {
        "colab": {
          "base_uri": "https://localhost:8080/"
        },
        "id": "-LGCA3FkjIxa",
        "outputId": "014272d0-d5f5-4aaa-8b77-544d82022161"
      },
      "outputs": [
        {
          "output_type": "stream",
          "name": "stdout",
          "text": [
            "Hey, what's up?\n"
          ]
        }
      ],
      "source": [
        "string1 = 'Hey, what\\'s up?'\n",
        "print(string1)"
      ]
    },
    {
      "cell_type": "markdown",
      "source": [
        "2. What do the escape characters n and t stand for ?"
      ],
      "metadata": {
        "id": "bRHAHpHhlk8I"
      }
    },
    {
      "cell_type": "markdown",
      "source": [
        "Ans: `\\n` is used for a newline, `\\t` is used for a tab"
      ],
      "metadata": {
        "id": "12f8F7qOlqEJ"
      }
    },
    {
      "cell_type": "code",
      "source": [
        "string1 = \"Hello\\nWorld!\"\n",
        "print(string1) \n",
        "\n",
        "string1 = \"Hello\\tWorld!\"\n",
        "print(string1) "
      ],
      "metadata": {
        "colab": {
          "base_uri": "https://localhost:8080/"
        },
        "id": "jTnvfam4jPmB",
        "outputId": "3eb1c33d-f7d5-4058-b66e-2d68d239a844"
      },
      "execution_count": null,
      "outputs": [
        {
          "output_type": "stream",
          "name": "stdout",
          "text": [
            "Hello\n",
            "World!\n",
            "Hello\tWorld!\n"
          ]
        }
      ]
    },
    {
      "cell_type": "markdown",
      "source": [
        "3. what is the way to include backslash character in a string?"
      ],
      "metadata": {
        "id": "K3iqe7DTmO4P"
      }
    },
    {
      "cell_type": "markdown",
      "source": [
        "Ans: The `\\\\` escape character will represent the backslash character in a string"
      ],
      "metadata": {
        "id": "PpKLi79RmVDP"
      }
    },
    {
      "cell_type": "markdown",
      "source": [
        "4. The string \"Howl's Moving Castle\" is a correct value. Why isn't the single quote character in the word Howl's not escaped a problem ?"
      ],
      "metadata": {
        "id": "X6PDRWT2mZ4a"
      }
    },
    {
      "cell_type": "markdown",
      "source": [
        "Ans: The string `\"Howl's Moving Castle\"` is wrapped inside double quotes as a result it escaped the problem.<br> if its wrapped inside single quotes then we have to use escape character (\\\\) to show single quote in the final output"
      ],
      "metadata": {
        "id": "pj579OmKmotK"
      }
    },
    {
      "cell_type": "markdown",
      "source": [
        "5. How do you write a string of newlines if you don't want to use the n character?"
      ],
      "metadata": {
        "id": "8jn2LsRgnXKK"
      }
    },
    {
      "cell_type": "markdown",
      "source": [
        "Ans: Multiline string allow you to use newlines in string without the `\\n` escape character"
      ],
      "metadata": {
        "id": "I7U56sI9naIq"
      }
    },
    {
      "cell_type": "markdown",
      "source": [
        "Ans: Ans: Multiline string allow you to use newlines in string without the `\\n` escape character"
      ],
      "metadata": {
        "id": "t_WIVywAn7Id"
      }
    },
    {
      "cell_type": "code",
      "source": [
        "string1 = '''This is the first line of my multiline example\n",
        "This is the second line of my multiline example'''\n",
        "print(string1)"
      ],
      "metadata": {
        "colab": {
          "base_uri": "https://localhost:8080/"
        },
        "id": "ZT1RRqbPmJGz",
        "outputId": "8c95ada2-5ebe-478b-c8bd-95ca5ff12d51"
      },
      "execution_count": null,
      "outputs": [
        {
          "output_type": "stream",
          "name": "stdout",
          "text": [
            "This is the first line of my multiline example\n",
            "This is the second line of my multiline example\n"
          ]
        }
      ]
    },
    {
      "cell_type": "markdown",
      "source": [
        "6. What are the values of the given expressions ?<br>\n",
        "`'Hello, world!'[1]`<br>\n",
        "`'Hello, world!'[0:5]`<br>\n",
        "`'Hello, world!'[:5]`<br>\n",
        "`'Hello, world!'[3:]`<br>"
      ],
      "metadata": {
        "id": "P3zQ_pAdoTF6"
      }
    },
    {
      "cell_type": "markdown",
      "source": [
        "Ans: The values for the given expressions are:<br>\n",
        "'Hello, world!'[1] = 'e'<br>\n",
        "'Hello, world!'[0:5] = 'Hello'<br>\n",
        "'Hello, world!'[:5] = 'Hello'<br>\n",
        "'Hello, world!'[3:] = 'lo, world!'"
      ],
      "metadata": {
        "id": "7nvmq_7KpLgC"
      }
    },
    {
      "cell_type": "code",
      "source": [
        "print(\"'Hello, world!'[1] will result in:\",'Hello, world!'[1])\n",
        "print(\"'Hello, world!'[0:5] will result in:\",'Hello, world!'[0:5])\n",
        "print(\"'Hello, world!'[:5] will result in:\",'Hello, world!'[:5])\n",
        "print(\"'Hello, world!'[3:] will result in:\",'Hello, world!'[3:])"
      ],
      "metadata": {
        "colab": {
          "base_uri": "https://localhost:8080/"
        },
        "id": "SsqS3rgOoOQb",
        "outputId": "0de76210-1384-46ae-a003-ccfb8105c9d2"
      },
      "execution_count": null,
      "outputs": [
        {
          "output_type": "stream",
          "name": "stdout",
          "text": [
            "'Hello, world!'[1] will result in: e\n",
            "'Hello, world!'[0:5] will result in: Hello\n",
            "'Hello, world!'[:5] will result in: Hello\n",
            "'Hello, world!'[3:] will result in: lo, world!\n"
          ]
        }
      ]
    },
    {
      "cell_type": "markdown",
      "source": [
        "7. What are the values of the following expressions ?<br>\n",
        "`'Hello'.upper()`<br>\n",
        "`'Hello'.upper().isupper()`<br>\n",
        "`'Hello'.upper().lower()`<br>"
      ],
      "metadata": {
        "id": "5GLRHmyWpdGA"
      }
    },
    {
      "cell_type": "markdown",
      "source": [
        "Ans: The values for the given expressions are:<br>\n",
        "'Hello'.upper() = 'HELLO'<br>\n",
        "'Hello'.upper().isupper() = True<br>\n",
        "'Hello'.upper().lower() = 'hello'<br>"
      ],
      "metadata": {
        "id": "MMBKEyaupsC5"
      }
    },
    {
      "cell_type": "code",
      "source": [
        "print(\"'Hello'.upper() will result in:\",'Hello'.upper())\n",
        "print(\"'Hello'.upper().isupper() will result in:\",'Hello'.upper().isupper())\n",
        "print(\"'Hello'.upper().lower() will result in:\",'Hello'.upper().lower())"
      ],
      "metadata": {
        "colab": {
          "base_uri": "https://localhost:8080/"
        },
        "id": "Va7xxjr_ot-e",
        "outputId": "8e304a32-7299-428e-ee07-31f57773590d"
      },
      "execution_count": null,
      "outputs": [
        {
          "output_type": "stream",
          "name": "stdout",
          "text": [
            "'Hello'.upper() will result in: HELLO\n",
            "'Hello'.upper().isupper() will result in: True\n",
            "'Hello'.upper().lower() will result in: hello\n"
          ]
        }
      ]
    },
    {
      "cell_type": "markdown",
      "source": [
        "8. What are the values of the following expressions ?<br>\n",
        "`'Remember, remember, the fifth of July.'.split()`<br>\n",
        "`'-'.join('There can only one'.split())`"
      ],
      "metadata": {
        "id": "eDt3b9w0qbjh"
      }
    },
    {
      "cell_type": "code",
      "source": [
        "print(\"'Remember, remember, the fifth of July.'.split() will result in:\",'Remember, remember, the fifth of July.'.split())\n",
        "print(\"'-'.join('There can only one'.split()) will result in: \",'-'.join('There can only one'.split()))"
      ],
      "metadata": {
        "colab": {
          "base_uri": "https://localhost:8080/"
        },
        "id": "vSFjXuEMqIgD",
        "outputId": "1630ac38-b730-4d04-a237-391611e7ee32"
      },
      "execution_count": null,
      "outputs": [
        {
          "output_type": "stream",
          "name": "stdout",
          "text": [
            "'Remember, remember, the fifth of July.'.split() will result in: ['Remember,', 'remember,', 'the', 'fifth', 'of', 'July.']\n",
            "'-'.join('There can only one'.split()) will result in:  There-can-only-one\n"
          ]
        }
      ]
    },
    {
      "cell_type": "markdown",
      "source": [
        "9. What are the methods for right-justifying, left-justifying and centering a string ?"
      ],
      "metadata": {
        "id": "oAKSaeYcrRr5"
      }
    },
    {
      "cell_type": "markdown",
      "source": [
        "Ans:\n",
        "*   Method for right-justifying string is rjust()<br>`str.ljust(s, width[, fillchar])`\n",
        "*   Method for left-justifying string is ljust()<br>`str.rjust(s, width[, fillchar])`\n",
        "*   Method for centering a string is center()<br>`str.center(s, width[, fillchar])`\n",
        "\n"
      ],
      "metadata": {
        "id": "jIK_6IgArWRy"
      }
    },
    {
      "cell_type": "markdown",
      "source": [
        "10. What is the best way to remove whitespace characters from the start or end ?"
      ],
      "metadata": {
        "id": "_WoIkQ51sDHk"
      }
    },
    {
      "cell_type": "markdown",
      "source": [
        "Ans: The `lstrip()` and `rstrip()` methods remove whitesapce characters from the left and right ends of a string respectively"
      ],
      "metadata": {
        "id": "zvYSpJ3qsMvI"
      }
    },
    {
      "cell_type": "code",
      "source": [
        "sample_string = \"-------Hello-------\"\n",
        " \n",
        "# using strip() to delete all '-'\n",
        "print (\" String after stripping all '-' is : \", end=\"\")\n",
        "print (sample_string.strip('-') )\n",
        " \n",
        "# using lstrip() to delete all trailing '-'\n",
        "print (\" String after stripping all leading '-' is : \", end=\"\")\n",
        "print (sample_string.lstrip('-') )\n",
        " \n",
        "# using rstrip() to delete all leading '-'\n",
        "print (\" String after stripping all trailing '-' is : \", end=\"\")\n",
        "print (sample_string.rstrip('-') )"
      ],
      "metadata": {
        "colab": {
          "base_uri": "https://localhost:8080/"
        },
        "id": "mz93Mb9Gqy63",
        "outputId": "268860d1-d77c-454f-d2a5-e88ead5e4e97"
      },
      "execution_count": null,
      "outputs": [
        {
          "output_type": "stream",
          "name": "stdout",
          "text": [
            " String after stripping all '-' is : Hello\n",
            " String after stripping all leading '-' is : Hello-------\n",
            " String after stripping all trailing '-' is : -------Hello\n"
          ]
        }
      ]
    }
  ]
}