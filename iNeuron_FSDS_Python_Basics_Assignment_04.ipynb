{
  "nbformat": 4,
  "nbformat_minor": 0,
  "metadata": {
    "colab": {
      "provenance": []
    },
    "kernelspec": {
      "name": "python3",
      "display_name": "Python 3"
    },
    "language_info": {
      "name": "python"
    }
  },
  "cells": [
    {
      "cell_type": "markdown",
      "source": [
        "Python Basics Assignment 4"
      ],
      "metadata": {
        "id": "dw1wMkjGOSaP"
      }
    },
    {
      "cell_type": "markdown",
      "source": [
        "The assignment can be found at: [Assignment](https://drive.google.com/file/d/1zdWsymBu3P-L27CnBViY8MSeedeSc_2Y/view)"
      ],
      "metadata": {
        "id": "PErlZrgoOYZI"
      }
    },
    {
      "cell_type": "markdown",
      "source": [
        "1. What exactly is `[ ]`?"
      ],
      "metadata": {
        "id": "yuUfms_mOaOk"
      }
    },
    {
      "cell_type": "markdown",
      "source": [
        "Ans: `[]` is an empty list that contains no items."
      ],
      "metadata": {
        "id": "uZDns93nO4RJ"
      }
    },
    {
      "cell_type": "code",
      "source": [
        "# initializing a list\n",
        "List1 = [ ]\t\t\n",
        "\n",
        "\n",
        "print(\"Elements of List1:\", List1)\n",
        "print(\"Size of List1:\", len(List1))"
      ],
      "metadata": {
        "colab": {
          "base_uri": "https://localhost:8080/"
        },
        "id": "UIy7hjO9PJww",
        "outputId": "2301ad2f-3c3f-4c4d-a6cd-fe39f107a78a"
      },
      "execution_count": null,
      "outputs": [
        {
          "output_type": "stream",
          "name": "stdout",
          "text": [
            "Elements of List1: []\n",
            "Size of List1: 0\n"
          ]
        }
      ]
    },
    {
      "cell_type": "markdown",
      "source": [
        "2. In a list of values stored in a variable called spam, how would you assign the value 'hello' as the third value? (Assume `[2, 4, 6, 8, 10]` are in spam.)"
      ],
      "metadata": {
        "id": "ysxTqi8ePoXY"
      }
    },
    {
      "cell_type": "code",
      "source": [
        "# initializing a list spam\n",
        "\n",
        "spam=[2,4,6,8,10]\n",
        "\n",
        "# Displaying elements of list spam\n",
        "print(spam)\n",
        "\n",
        "# assigning 'hello' as 3rd element\n",
        "spam[2]='hello' \n",
        "print(spam)"
      ],
      "metadata": {
        "colab": {
          "base_uri": "https://localhost:8080/"
        },
        "id": "inhfFwO6O1Hg",
        "outputId": "a28fcdce-c3b5-4690-994e-fd1d97c6b417"
      },
      "execution_count": null,
      "outputs": [
        {
          "output_type": "stream",
          "name": "stdout",
          "text": [
            "[2, 4, 6, 8, 10]\n",
            "[2, 4, 'hello', 8, 10]\n"
          ]
        }
      ]
    },
    {
      "cell_type": "markdown",
      "source": [
        "Let's pretend the spam includes the list `['a','b','c',d']` for the next three queries."
      ],
      "metadata": {
        "id": "AIBZez5oQdh0"
      }
    },
    {
      "cell_type": "markdown",
      "source": [
        "3. What is the value of spam `[int(int('3'*2)//11)]` ?"
      ],
      "metadata": {
        "id": "8Opdj93GQu5S"
      }
    },
    {
      "cell_type": "code",
      "source": [
        "# initializing a list spam\n",
        "spam=['a','b','c','d']\n",
        "\n",
        "print(\"Result of spam[int(int('3'*2)//11)] is: \",spam[int(int('3'*2)//11)])"
      ],
      "metadata": {
        "colab": {
          "base_uri": "https://localhost:8080/"
        },
        "id": "qA7qqI1AQGCv",
        "outputId": "35f7e187-d521-4d3e-ed2a-eadbd9c44f7e"
      },
      "execution_count": null,
      "outputs": [
        {
          "output_type": "stream",
          "name": "stdout",
          "text": [
            "Result of spam[int(int('3'*2)//11)] is:  d\n"
          ]
        }
      ]
    },
    {
      "cell_type": "markdown",
      "source": [
        "4. What is the value of `spam[-1]`?"
      ],
      "metadata": {
        "id": "vJAc2KnsRHco"
      }
    },
    {
      "cell_type": "code",
      "source": [
        "# initializing a list spam\n",
        "spam=['a','b','c','d']\n",
        "\n",
        "print('value of spam[-1] is: ', spam[-1])"
      ],
      "metadata": {
        "colab": {
          "base_uri": "https://localhost:8080/"
        },
        "id": "nGtaRvrDRDqt",
        "outputId": "f6f2e86c-9c3d-4410-bea5-a616e7be9a38"
      },
      "execution_count": null,
      "outputs": [
        {
          "output_type": "stream",
          "name": "stdout",
          "text": [
            "value of spam[-1] is:  d\n"
          ]
        }
      ]
    },
    {
      "cell_type": "markdown",
      "source": [
        "5. What is the value of `spam[:2]`?"
      ],
      "metadata": {
        "id": "5-9Ac-3KRVNC"
      }
    },
    {
      "cell_type": "code",
      "source": [
        "# initializing a list spam\n",
        "spam=['a','b','c','d']\n",
        "\n",
        "print('Value of spam[:2] is:', spam[:2])"
      ],
      "metadata": {
        "colab": {
          "base_uri": "https://localhost:8080/"
        },
        "id": "pBnD7fdKRSL4",
        "outputId": "24afdfb2-841b-4113-c59a-128d84f37fe5"
      },
      "execution_count": null,
      "outputs": [
        {
          "output_type": "stream",
          "name": "stdout",
          "text": [
            "Value of spam[:2] is: ['a', 'b']\n"
          ]
        }
      ]
    },
    {
      "cell_type": "markdown",
      "source": [
        "Let&#39;s pretend bacon has the list `[3.14, 'cat', 11, 'cat', True]` for the next three questions."
      ],
      "metadata": {
        "id": "QoGW0H75Rl70"
      }
    },
    {
      "cell_type": "markdown",
      "source": [
        "6. What is the value of `bacon.index('cat')`?"
      ],
      "metadata": {
        "id": "4AhXegEJRsYE"
      }
    },
    {
      "cell_type": "code",
      "source": [
        "# initializing a list bacon.\n",
        "bacon=[3.14,'cat',11,'cat',True]\n",
        "\n",
        "print(\"Value of bacon.index('cat') is: \",bacon.index('cat'))"
      ],
      "metadata": {
        "colab": {
          "base_uri": "https://localhost:8080/"
        },
        "id": "kuBxdzicRgx3",
        "outputId": "83520c25-09a9-422d-fc45-0d0b87602e43"
      },
      "execution_count": null,
      "outputs": [
        {
          "output_type": "stream",
          "name": "stdout",
          "text": [
            "Value of bacon.index('cat') is:  1\n"
          ]
        }
      ]
    },
    {
      "cell_type": "markdown",
      "source": [
        "7. How does `bacon.append(99)` change the look of the list value in bacon?"
      ],
      "metadata": {
        "id": "6rw_Rd2QSDS3"
      }
    },
    {
      "cell_type": "code",
      "source": [
        "# initializing a list bacon.\n",
        "bacon=[3.14,'cat',11,'cat',True]\n",
        "\n",
        "# displaying original list bacon.\n",
        "print(bacon)\n",
        "\n",
        "# appending 99 to the end of the list bacon.\n",
        "bacon.append(99) \n",
        "\n",
        "# Displaying elements of list bacon after append operation.\n",
        "print(bacon)"
      ],
      "metadata": {
        "colab": {
          "base_uri": "https://localhost:8080/"
        },
        "id": "tICxfSsSSAON",
        "outputId": "c85c92d3-2309-4232-a185-7c22aee70056"
      },
      "execution_count": null,
      "outputs": [
        {
          "output_type": "stream",
          "name": "stdout",
          "text": [
            "[3.14, 'cat', 11, 'cat', True]\n",
            "[3.14, 'cat', 11, 'cat', True, 99]\n"
          ]
        }
      ]
    },
    {
      "cell_type": "markdown",
      "source": [
        "8. How does `bacon.remove('cat')` change the look of the list in bacon?"
      ],
      "metadata": {
        "id": "hN7LpngGS1Fk"
      }
    },
    {
      "cell_type": "code",
      "source": [
        "# initializing a list bacon.\n",
        "bacon=[3.14,'cat',11,'cat',True]\n",
        "\n",
        "# displaying original list bacon.\n",
        "print(bacon)\n",
        "\n",
        "# removing element cat from list bacon.\n",
        "bacon.remove('cat')\n",
        "\n",
        "# Displaying elements of list bacon after append operation.\n",
        "print(bacon)"
      ],
      "metadata": {
        "colab": {
          "base_uri": "https://localhost:8080/"
        },
        "id": "kSZDq1__SxcU",
        "outputId": "2465e65f-161a-4140-be49-67048c9b2912"
      },
      "execution_count": null,
      "outputs": [
        {
          "output_type": "stream",
          "name": "stdout",
          "text": [
            "[3.14, 'cat', 11, 'cat', True]\n",
            "[3.14, 11, 'cat', True]\n"
          ]
        }
      ]
    },
    {
      "cell_type": "markdown",
      "source": [
        "9. What are the list concatenation and list replication operators?"
      ],
      "metadata": {
        "id": "fe-iBO40T6Ax"
      }
    },
    {
      "cell_type": "markdown",
      "source": [
        "Ans: \n",
        "\n",
        "* `+` is the list concatenation operation.\n",
        "* `*` is the list replication operation.\n",
        "\n"
      ],
      "metadata": {
        "id": "sOBbEZWRUChZ"
      }
    },
    {
      "cell_type": "code",
      "source": [
        "# initializing a sample list\n",
        "sample_list_1 = [0,1,2,3,4]\n",
        "sample_list_2 = [5,6,7,8,9]\n",
        "\n",
        "# Performing list concatenation operation\n",
        "print('--Performing list concatenation operation--')\n",
        "print(sample_list_1 + sample_list_2)\n",
        "\n",
        "# Performing list replication operation\n",
        "print('--Performing list replication operation--')\n",
        "print(sample_list_1*2) \n",
        "print(sample_list_2*2) "
      ],
      "metadata": {
        "colab": {
          "base_uri": "https://localhost:8080/"
        },
        "id": "C5kkPdwsTuo1",
        "outputId": "c264f3c6-8459-4a25-d06d-498aa4b68658"
      },
      "execution_count": null,
      "outputs": [
        {
          "output_type": "stream",
          "name": "stdout",
          "text": [
            "--Performing list concatenation operation--\n",
            "[0, 1, 2, 3, 4, 5, 6, 7, 8, 9]\n",
            "--Performing list replication operation--\n",
            "[0, 1, 2, 3, 4, 0, 1, 2, 3, 4]\n",
            "[5, 6, 7, 8, 9, 5, 6, 7, 8, 9]\n"
          ]
        }
      ]
    },
    {
      "cell_type": "markdown",
      "source": [
        "10. What is difference between the list methods `append()` and `insert()`?"
      ],
      "metadata": {
        "id": "rq0rwiNJVXWT"
      }
    },
    {
      "cell_type": "markdown",
      "source": [
        "Ans:\n",
        "\n",
        "* `append()`: This function will insert the element at the end of the list.<br>list.append(object)\n",
        "* `inset()` : This function will insert the element at user specified index of list.<br>list.index(value, start, stop)\n",
        "\n"
      ],
      "metadata": {
        "id": "2Vy18oEuVehY"
      }
    },
    {
      "cell_type": "code",
      "source": [
        "# initializing a sample list\n",
        "sample_list = [0,1,2,3,4]\n",
        "\n",
        "# inserting some data into the sample list\n",
        "sample_list.append(5)\n",
        "\n",
        "# Displaying the elements of sample list after append operation.\n",
        "print(sample_list)\n",
        "\n",
        "# Displaying the elements of sample list after insert operation.\n",
        "sample_list.insert(2,10)\n",
        "\n",
        "# Displaying the elements of sample list after insert operation.\n",
        "print(sample_list)"
      ],
      "metadata": {
        "colab": {
          "base_uri": "https://localhost:8080/"
        },
        "id": "Ik-Nan3PVH1N",
        "outputId": "bbbeb202-ff1f-4620-8b33-5d448b684a14"
      },
      "execution_count": null,
      "outputs": [
        {
          "output_type": "stream",
          "name": "stdout",
          "text": [
            "[0, 1, 2, 3, 4, 5]\n",
            "[0, 1, 10, 2, 3, 4, 5]\n"
          ]
        }
      ]
    },
    {
      "cell_type": "markdown",
      "source": [
        "11. What are the two methods for removing items from a list?"
      ],
      "metadata": {
        "id": "Je0niNquXbho"
      }
    },
    {
      "cell_type": "markdown",
      "source": [
        "Ans: There are two ways to remove values from a list. `del` statement and the `remove()` function can be used for this operation"
      ],
      "metadata": {
        "id": "oTqigkeqXi17"
      }
    },
    {
      "cell_type": "code",
      "source": [
        "# initializing a sample list\n",
        "sample_list = [0,1,2,3,4]\n",
        "\n",
        "# removing elements using del\n",
        "del sample_list[2]\n",
        "\n",
        "# Displaying list after removing the element\n",
        "print(sample_list)\n",
        "\n",
        "# removing elements using remove()\n",
        "sample_list.remove(3)\n",
        "\n",
        "# Displaying list after removing the element\n",
        "print(sample_list)"
      ],
      "metadata": {
        "colab": {
          "base_uri": "https://localhost:8080/"
        },
        "id": "x33EtdqJWCUG",
        "outputId": "506a4620-7d50-4f20-c4cc-5001966d5c1a"
      },
      "execution_count": null,
      "outputs": [
        {
          "output_type": "stream",
          "name": "stdout",
          "text": [
            "[0, 1, 3, 4]\n",
            "[0, 1, 4]\n"
          ]
        }
      ]
    },
    {
      "cell_type": "markdown",
      "source": [
        "12. Describe how list values and string values are identical."
      ],
      "metadata": {
        "id": "P_lmQArgYgzw"
      }
    },
    {
      "cell_type": "markdown",
      "source": [
        "Ans: List and string both are used to store data and both are sequence.\n",
        "\n"
      ],
      "metadata": {
        "id": "LsTfvp96YoH1"
      }
    },
    {
      "cell_type": "markdown",
      "source": [
        "13. What&#39;s the difference between tuples and lists?"
      ],
      "metadata": {
        "id": "lrJ5BzdHZZVU"
      }
    },
    {
      "cell_type": "markdown",
      "source": [
        "Ans: \n",
        "*   Tuples: Tuples are Immutable. They consume less memory as compared to the list. They are represented using parentheses `()`.\n",
        "*   Lists: Lists are Mutable. They consume more memory compared to tuples. \n",
        " They are represented using square brackets `[ ]`.\n",
        "\n"
      ],
      "metadata": {
        "id": "atEAqhk6Zguk"
      }
    },
    {
      "cell_type": "code",
      "source": [
        "# initializing a sample list\n",
        "sample_list = [0,1,2,3,4]\n",
        "\n",
        "# Defining a sample tuple\n",
        "sample_tup = (0,1,2,3,4)\n",
        "\n",
        "# Displaying a sample list\n",
        "print(sample_list)\n",
        "\n",
        "# Displaying sample tuple\n",
        "print(sample_tup)"
      ],
      "metadata": {
        "colab": {
          "base_uri": "https://localhost:8080/"
        },
        "id": "bHLKhC3qYCjS",
        "outputId": "17801b2e-2e87-4840-9b4d-fe00be71b402"
      },
      "execution_count": null,
      "outputs": [
        {
          "output_type": "stream",
          "name": "stdout",
          "text": [
            "[0, 1, 2, 3, 4]\n",
            "(0, 1, 2, 3, 4)\n"
          ]
        }
      ]
    },
    {
      "cell_type": "markdown",
      "source": [
        "13. How do you type a tuple value that only contains the integer 42?"
      ],
      "metadata": {
        "id": "iywzsNE6bA61"
      }
    },
    {
      "cell_type": "code",
      "source": [
        "# initializing a sample tuple.\n",
        "sample_tup_1=(42)\n",
        "sample_tup_2=(42,) #Here, the trailing comma is mandatory. otherwise its considered as a int by python Interpreter\n",
        "\n",
        "# Displaying value of sample tuple\n",
        "print(type(sample_tup_1))\n",
        "print(type(sample_tup_2))"
      ],
      "metadata": {
        "colab": {
          "base_uri": "https://localhost:8080/"
        },
        "id": "ms7c0mT7a8xl",
        "outputId": "f8510105-e479-4c8a-8e51-7f00466cbd8f"
      },
      "execution_count": null,
      "outputs": [
        {
          "output_type": "stream",
          "name": "stdout",
          "text": [
            "<class 'int'>\n",
            "<class 'tuple'>\n"
          ]
        }
      ]
    },
    {
      "cell_type": "markdown",
      "source": [
        "15. How do you get a list value's tuple form? How do you get a tuple value's list form?"
      ],
      "metadata": {
        "id": "7oCGg-s2biOn"
      }
    },
    {
      "cell_type": "markdown",
      "source": [
        "Ans: The tuple() and list() functions, respectively are used to convert a list to tuple and vice versa"
      ],
      "metadata": {
        "id": "mxH8SF1Pbpdz"
      }
    },
    {
      "cell_type": "markdown",
      "source": [
        "16. Variables that \"contain\" list values are not necessarily lists themselves. Instead, what do they contain?"
      ],
      "metadata": {
        "id": "km_NW1e6byBI"
      }
    },
    {
      "cell_type": "markdown",
      "source": [
        "Ans: They contain references to list values."
      ],
      "metadata": {
        "id": "65iaKmt1b099"
      }
    },
    {
      "cell_type": "markdown",
      "source": [
        "17. How do you distinguish between copy.copy() and copy.deepcopy()?"
      ],
      "metadata": {
        "id": "QEuuiALcb3TT"
      }
    },
    {
      "cell_type": "markdown",
      "source": [
        "Ans:\n",
        "*   copy.copy() function will do a shallow copy of a list. It means that any changes made to a copy of object will reflect in the original object\n",
        "*   copy.deepcopy() function will do a deep copy of a list. It means that any changes made to a copy of object will not reflect in the original object."
      ],
      "metadata": {
        "id": "pt8tTPvmcnjL"
      }
    },
    {
      "cell_type": "code",
      "source": [
        "# importing copy module\n",
        "import copy\n",
        "\n",
        "# initializing a sample list\n",
        "sample_list = [0, 1, 2, [3,5], 4]\n",
        "\n",
        "\n",
        "# using copy for shallow copy\n",
        "shallow_list = copy.copy(sample_list)\n",
        "\n",
        "# using deepcopy for deepcopy\n",
        "deep_list = copy.deepcopy(sample_list)"
      ],
      "metadata": {
        "id": "eNHr1FSdbW9c"
      },
      "execution_count": null,
      "outputs": []
    },
    {
      "cell_type": "code",
      "source": [],
      "metadata": {
        "id": "wEu0RryGdi-3"
      },
      "execution_count": null,
      "outputs": []
    }
  ]
}