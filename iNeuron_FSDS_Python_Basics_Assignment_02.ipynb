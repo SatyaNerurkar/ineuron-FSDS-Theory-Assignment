{
  "nbformat": 4,
  "nbformat_minor": 0,
  "metadata": {
    "colab": {
      "provenance": []
    },
    "kernelspec": {
      "name": "python3",
      "display_name": "Python 3"
    },
    "language_info": {
      "name": "python"
    }
  },
  "cells": [
    {
      "cell_type": "markdown",
      "source": [
        "# Python Basics Assignment 2"
      ],
      "metadata": {
        "id": "EFsi_sk82bsd"
      }
    },
    {
      "cell_type": "markdown",
      "source": [
        "The assignment can be found at: [Assignment](https://drive.google.com/file/d/1eeRUJ1JzCWBWWPi9u3-q8ICJRSQwHUK8/view)"
      ],
      "metadata": {
        "id": "qHtCJB02HIq4"
      }
    },
    {
      "cell_type": "markdown",
      "source": [
        "1. What are the two values of the boolean data types? how do you write them ?"
      ],
      "metadata": {
        "id": "w-cdvdaG2mil"
      }
    },
    {
      "cell_type": "markdown",
      "source": [
        "Ans: Two values of the boolen data types are True and False.<br>\n",
        "A boolean variable is initialized as shown below."
      ],
      "metadata": {
        "id": "vVrwgZqj23zA"
      }
    },
    {
      "cell_type": "code",
      "execution_count": null,
      "metadata": {
        "colab": {
          "base_uri": "https://localhost:8080/"
        },
        "id": "2jrsuE6c2J15",
        "outputId": "4d5e88ce-5772-4e0e-bc1e-df202d4a52be"
      },
      "outputs": [
        {
          "output_type": "stream",
          "name": "stdout",
          "text": [
            "Boolean value of var1 is True and <class 'bool'>\n",
            "Boolean value of var2 is False and <class 'bool'>\n"
          ]
        }
      ],
      "source": [
        "# Initializing boolean value.\n",
        "var1 = True\n",
        "var2 = False\n",
        "\n",
        "# Displaying boolean value.\n",
        "print('Boolean value of var1 is', var1,'and',type(var1))\n",
        "print('Boolean value of var2 is', var2,'and',type(var2))"
      ]
    },
    {
      "cell_type": "markdown",
      "source": [
        "2. What are the three different types of Boolean operators?"
      ],
      "metadata": {
        "id": "XMvnKNXi4CZ_"
      }
    },
    {
      "cell_type": "markdown",
      "source": [
        "Ans: The three differnt types of Boolean operators in python are: `and`, `or`, `not`."
      ],
      "metadata": {
        "id": "0Fn32DUw4kf-"
      }
    },
    {
      "cell_type": "code",
      "source": [
        "# Initialization of variables.\n",
        "val1 = 10\n",
        "val2 = 20\n",
        "\n",
        "# Displaying result of boolean operators.\n",
        "print(val1<20 and val2>10) # Example of boolean and\n",
        "print(val1>20 or val1>10)  # Example of boolean or\n",
        "print(not(val1>11))        # Example of boolean not"
      ],
      "metadata": {
        "colab": {
          "base_uri": "https://localhost:8080/"
        },
        "id": "hEgY5k8Z3e5x",
        "outputId": "0b37049a-181c-4c95-ec9e-8004a137aef0"
      },
      "execution_count": null,
      "outputs": [
        {
          "output_type": "stream",
          "name": "stdout",
          "text": [
            "True\n",
            "False\n",
            "True\n"
          ]
        }
      ]
    },
    {
      "cell_type": "markdown",
      "source": [
        "3. Make a list of each Boolean operator's truth tables (i.e. every possible combination of Boolean values for the operator and what it evaluate)"
      ],
      "metadata": {
        "id": "gkwlQMQJ5mTf"
      }
    },
    {
      "cell_type": "markdown",
      "source": [
        "Ans: The Truth tables for the boolean operators are as follows:<br>\n",
        "*   Truth Table for and operator:<br>\n",
        "> True  and True  = True<br>\n",
        "> True  and False = False<br>\n",
        "> False and True  = False<br>\n",
        "> False and False = False<br>\n",
        "*   Truth Table for or operator:<br>\n",
        "> True  or True  = True<br>\n",
        "> True  or False = True<br>\n",
        "> False or True  = True<br>\n",
        "> False or False = False<br>\n",
        "*   Truth Table for not operator:<br>\n",
        "> True  not = False <br>\n",
        "> False not = True<br>\n"
      ],
      "metadata": {
        "id": "zkUO1WvJ5stN"
      }
    },
    {
      "cell_type": "markdown",
      "source": [
        "4. What are the values of the following expressions ?\n",
        "\n",
        "*   `(5 > 4) and (3 == 5)`\n",
        "*   `not (5 > 4)`\n",
        "*   `(5 > 4) or (3 == 5)`\n",
        "*   `not ((5 > 4) or (3 == 5))`\n",
        "*   `(True and True) and (True == False)`\n",
        "*   `(not False) or (not True)`\n",
        "\n"
      ],
      "metadata": {
        "id": "TDokfLs77Cx5"
      }
    },
    {
      "cell_type": "code",
      "source": [
        "print('(5>4)and(3==5) -> ',(5>4)and(3==5))\n",
        "print(' ')\n",
        "print('not(5>4) -> ',not(5>4)) \n",
        "print(' ')\n",
        "print('(5>4)or(3==5) -> ',(5>4)or(3==5))\n",
        "print(' ') \n",
        "print('not((5>4)or(3==5)) -> ',not((5>4)or(3==5))) \n",
        "print(' ')\n",
        "print('(True and True)and(True==False) -> ',(True and True)and(True==False)) \n",
        "print(' ')\n",
        "print('(not False)or(not True) -> ',(not False)or(not True)) "
      ],
      "metadata": {
        "colab": {
          "base_uri": "https://localhost:8080/"
        },
        "id": "YOdOtwQD5SFq",
        "outputId": "9457ded3-fac6-4fae-c28f-92539df048c8"
      },
      "execution_count": null,
      "outputs": [
        {
          "output_type": "stream",
          "name": "stdout",
          "text": [
            "(5>4)and(3==5) ->  False\n",
            " \n",
            "not(5>4) ->  False\n",
            " \n",
            "(5>4)or(3==5) ->  True\n",
            " \n",
            "not((5>4)or(3==5)) ->  False\n",
            " \n",
            "(True and True)and(True==False) ->  False\n",
            " \n",
            "(not False)or(not True) ->  True\n"
          ]
        }
      ]
    },
    {
      "cell_type": "markdown",
      "source": [
        "5. What are the six comparison operators?"
      ],
      "metadata": {
        "id": "8G_FkhBb8NFn"
      }
    },
    {
      "cell_type": "markdown",
      "source": [
        "Ans: Python support following Six Comparision Operators:\n",
        "1.   `==` Equal to\n",
        "2.   `!=` not equal to\n",
        "3.   `<=` Less than or equal to\n",
        "4.   `>=` Greater than or equal to\n",
        "5.   `<` Less than\n",
        "6.   `>` Greater than\n",
        "\n"
      ],
      "metadata": {
        "id": "UlrIXnpo8QvL"
      }
    },
    {
      "cell_type": "markdown",
      "source": [
        "6. How do you tell the difference between the equal to and assignment operators? Describe a condition and when you would use one?"
      ],
      "metadata": {
        "id": "t7AlypdO9DC_"
      }
    },
    {
      "cell_type": "markdown",
      "source": [
        "Ans:\n",
        "*   `==` is an equal to operator which is mostly used in conditional statements like if -else.\n",
        "*   `=` is an assignment operation which is used to assign a particular value to a variable.\n",
        "\n"
      ],
      "metadata": {
        "id": "Iavts7Fb9FnV"
      }
    },
    {
      "cell_type": "code",
      "source": [
        "# Assigning operator that stores 3 value in a variable var1\n",
        "var1 = 100      \n",
        "\n",
        "# comparing value of varible var1 to execute a print statement              \n",
        "if var1 == 100:\n",
        "    print('Value of var1 is 100')  "
      ],
      "metadata": {
        "colab": {
          "base_uri": "https://localhost:8080/"
        },
        "id": "f8ky7ugp7meL",
        "outputId": "a36d7b4f-501e-4877-882b-e916726858a2"
      },
      "execution_count": null,
      "outputs": [
        {
          "output_type": "stream",
          "name": "stdout",
          "text": [
            "Value of var1 is 100\n"
          ]
        }
      ]
    },
    {
      "cell_type": "markdown",
      "source": [
        "7. Identify the three blocks in this code:<br>\n"
      ],
      "metadata": {
        "id": "2Quxvx7r-GgP"
      }
    },
    {
      "cell_type": "code",
      "source": [
        "spam = 0\n",
        "if spam == 10:\n",
        "  print('eggs')\n",
        "if spam > 5:\n",
        "  print('bacon')\n",
        "else:\n",
        "  print('ham')\n",
        "  print('spam')\n",
        "  print('spam')"
      ],
      "metadata": {
        "colab": {
          "base_uri": "https://localhost:8080/"
        },
        "id": "syz2cPPr-A1z",
        "outputId": "4b38d5df-603b-4bcb-a44e-13606907bf7e"
      },
      "execution_count": null,
      "outputs": [
        {
          "output_type": "stream",
          "name": "stdout",
          "text": [
            "ham\n",
            "spam\n",
            "spam\n"
          ]
        }
      ]
    },
    {
      "cell_type": "markdown",
      "source": [
        "Ans:In Python, a block is a piece of program that is executed as a unit.<br>\n",
        "The example above contains 3 blocks which are as followed:\n",
        "1.   `if spam == 10:`\n",
        "2.   `if spam > 5:`\n",
        "3.    `else`\n",
        "\n"
      ],
      "metadata": {
        "id": "_hI_Z91TBv1z"
      }
    },
    {
      "cell_type": "code",
      "source": [
        "spam = 0\n",
        "if spam == 10:\n",
        "  # Block 1\n",
        "  print('eggs')\n",
        "if spam > 5:\n",
        "  # Block 2\n",
        "  print('bacon')\n",
        "else:\n",
        "  # Block 3\n",
        "  print('ham')\n",
        "  print('spam')\n",
        "  print('spam')"
      ],
      "metadata": {
        "colab": {
          "base_uri": "https://localhost:8080/"
        },
        "id": "RpqSlhUgBvUm",
        "outputId": "83e17502-a421-468f-953f-cf3a2a2e5833"
      },
      "execution_count": null,
      "outputs": [
        {
          "output_type": "stream",
          "name": "stdout",
          "text": [
            "ham\n",
            "spam\n",
            "spam\n"
          ]
        }
      ]
    },
    {
      "cell_type": "markdown",
      "source": [
        "8. Write code that prints Hello if 1 is stored in spam, prints Howdy if 2 is stored in spam, and prints Greetings! if anything else is stored in spam."
      ],
      "metadata": {
        "id": "sS428GwtCuTq"
      }
    },
    {
      "cell_type": "code",
      "source": [
        "def myFunc(spam):\n",
        "    if spam==1:\n",
        "        print('Hello')\n",
        "    elif spam==2:\n",
        "        print('Howdy')\n",
        "    else:\n",
        "        print('Greetings')\n",
        "        \n",
        "myFunc(2) \n",
        "myFunc(3)\n",
        "myFunc(1)"
      ],
      "metadata": {
        "colab": {
          "base_uri": "https://localhost:8080/"
        },
        "id": "isRhi_b_Cg_k",
        "outputId": "76f8f968-df73-4790-b842-cc840beb63ae"
      },
      "execution_count": null,
      "outputs": [
        {
          "output_type": "stream",
          "name": "stdout",
          "text": [
            "Howdy\n",
            "Greetings\n",
            "Hello\n"
          ]
        }
      ]
    },
    {
      "cell_type": "markdown",
      "source": [
        "9. If your programme is stuck in an endless loop, what keys you’ll press?"
      ],
      "metadata": {
        "id": "vcExcPFlDIQ3"
      }
    },
    {
      "cell_type": "markdown",
      "source": [
        "Ans: To stop a program stuck in an infinite loop, we press `Ctrl-c`."
      ],
      "metadata": {
        "id": "3DyJKhoGDLDv"
      }
    },
    {
      "cell_type": "markdown",
      "source": [
        "10. How can you tell the difference between break and continue?"
      ],
      "metadata": {
        "id": "vBIj4XTPDRx2"
      }
    },
    {
      "cell_type": "markdown",
      "source": [
        "Ans:\n",
        "*   The break statement will move the execution outside the loop if break condtion is satisfied\n",
        "*   continue statement will move the execution to the start of the loop. <br>Example of break and continue is mentioned below:\n",
        "\n"
      ],
      "metadata": {
        "id": "tgRzOyGiDXRi"
      }
    },
    {
      "cell_type": "code",
      "source": [
        "# Initialization of string\n",
        "string1 = \"Hello all!\"\n",
        "\n",
        "print(string1)\n",
        "print('Break statement')\n",
        "# break statement inside the loop\n",
        "for i in string1:\n",
        "    if i == \" \":\n",
        "        break\n",
        "    print(i)\n",
        "\n",
        "print('continue statement')\n",
        "# continue statement inside the loop\n",
        "for i in string1:\n",
        "  if i == 'H':\n",
        "    continue\n",
        "  print(i)"
      ],
      "metadata": {
        "colab": {
          "base_uri": "https://localhost:8080/"
        },
        "id": "zbKd3J6ZDCVm",
        "outputId": "1185bae6-fafb-471c-ce7f-dba6dddae5f8"
      },
      "execution_count": null,
      "outputs": [
        {
          "output_type": "stream",
          "name": "stdout",
          "text": [
            "Hello all!\n",
            "Break statement\n",
            "H\n",
            "e\n",
            "l\n",
            "l\n",
            "o\n",
            "continue statement\n",
            "e\n",
            "l\n",
            "l\n",
            "o\n",
            " \n",
            "a\n",
            "l\n",
            "l\n",
            "!\n"
          ]
        }
      ]
    },
    {
      "cell_type": "markdown",
      "source": [
        "11. In a for loop, what is the difference between range(10), range(0, 10), and range(0, 10, 1)?"
      ],
      "metadata": {
        "id": "7mbIUDlVFJkI"
      }
    },
    {
      "cell_type": "markdown",
      "source": [
        "Ans:\n",
        "The syntax of range function is range(lowerbound, upperbound, stepsize)\n",
        ">1.   The range(10) will produce integers from 0 to 9 but not include 10.\n",
        ">2.The range (0,10) explicitly tells the loop to start at 0.\n",
        ">3.The range(0,10,1) explicitly tells the loop to increase the variable by 1 on each iteration\n",
        " \n"
      ],
      "metadata": {
        "id": "hNiSPeMcFPbx"
      }
    },
    {
      "cell_type": "code",
      "source": [
        "# Example of range(10)\n",
        "print('Example of range(10)')\n",
        "for i in range(10):\n",
        "    print(i, end=\" \")\n",
        "\n",
        "# Example of range(10)\n",
        "print('\\nExample of range(0,10)')\n",
        "for i in range(0,10):\n",
        "    print(i, end=\" \")\n",
        "\n",
        "# Example of range(10)\n",
        "print('\\nExample of range(0,10,1)')\n",
        "for i in range(0,10,1):\n",
        "    print(i, end=\" \")"
      ],
      "metadata": {
        "colab": {
          "base_uri": "https://localhost:8080/"
        },
        "id": "XXPcRuylD0bo",
        "outputId": "8875248a-3b12-4088-992b-2553ed343b2d"
      },
      "execution_count": null,
      "outputs": [
        {
          "output_type": "stream",
          "name": "stdout",
          "text": [
            "Example of range(10)\n",
            "0 1 2 3 4 5 6 7 8 9 \n",
            "Example of range(0,10)\n",
            "0 1 2 3 4 5 6 7 8 9 \n",
            "Example of range(0,10,1)\n",
            "0 1 2 3 4 5 6 7 8 9 "
          ]
        }
      ]
    },
    {
      "cell_type": "markdown",
      "source": [
        "12. Write a short program that prints the numbers 1 to 10 using a for loop. Then write an equivalent program that prints the numbers 1 to 10 using a while loop ?"
      ],
      "metadata": {
        "id": "71EBPk2sGivt"
      }
    },
    {
      "cell_type": "code",
      "source": [
        "print('For Loop')\n",
        "for i in range(1,11):\n",
        "    print(i, end=\" \")\n",
        "print('\\n')\n",
        "\n",
        "print('While Loop') \n",
        "i=1\n",
        "while i<=10:\n",
        "    print(i, end=\" \")\n",
        "    i+=1"
      ],
      "metadata": {
        "colab": {
          "base_uri": "https://localhost:8080/"
        },
        "id": "RgB05fBkF7Oq",
        "outputId": "6608812e-73ac-4a3b-d678-db2e4fc27aa6"
      },
      "execution_count": null,
      "outputs": [
        {
          "output_type": "stream",
          "name": "stdout",
          "text": [
            "For Loop\n",
            "1 2 3 4 5 6 7 8 9 10 \n",
            "\n",
            "While Loop\n",
            "1 2 3 4 5 6 7 8 9 10 "
          ]
        }
      ]
    },
    {
      "cell_type": "markdown",
      "source": [
        "13. If you had a function named bacon() inside a module named spam, how would you call it after importing spam ?"
      ],
      "metadata": {
        "id": "_vaUgnqWG15H"
      }
    },
    {
      "cell_type": "markdown",
      "source": [
        "Ans: This function can be called with `spam.bacon()`"
      ],
      "metadata": {
        "id": "rKaGBPczG7Hx"
      }
    }
  ]
}