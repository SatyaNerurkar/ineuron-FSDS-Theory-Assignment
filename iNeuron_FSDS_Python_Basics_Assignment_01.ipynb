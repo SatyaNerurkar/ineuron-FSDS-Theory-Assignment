{
  "nbformat": 4,
  "nbformat_minor": 0,
  "metadata": {
    "colab": {
      "name": "iNeuron_FSDS_Python_Basics_Assignment_01.ipynb",
      "provenance": [],
      "collapsed_sections": []
    },
    "kernelspec": {
      "name": "python3",
      "display_name": "Python 3"
    },
    "language_info": {
      "name": "python"
    }
  },
  "cells": [
    {
      "cell_type": "markdown",
      "source": [
        "## Python Basics Assignment 1"
      ],
      "metadata": {
        "id": "en6iok4KyAHY"
      }
    },
    {
      "cell_type": "markdown",
      "source": [
        "Assignment can be found here: [Assignment](https://drive.google.com/file/d/1RjQBjq90BeqNuon_JUlrih7Tnda732cs/view)"
      ],
      "metadata": {
        "id": "caR-YvNOTCMo"
      }
    },
    {
      "cell_type": "markdown",
      "source": [
        "# 1.  In the below elements which of them are values or an expression? **eg:-** values can be integer or string and expressions will be mathematical operators. \n",
        "<br>`*`,`'hello'`, `-87.8`,`-`,`/`,`+`,`6`"
      ],
      "metadata": {
        "id": "WYV718yz0Mwq"
      }
    },
    {
      "cell_type": "markdown",
      "source": [
        "Ans: There are total 4 expressions and 3 Values.<br>\n",
        "\n",
        "\n",
        "*   Expressions: `*`, `-`, `/`, `+`\n",
        "*   Values: `'hello'`, `-87.8`, `6`\n",
        "\n"
      ],
      "metadata": {
        "id": "SbtfoqW10R5S"
      }
    },
    {
      "cell_type": "markdown",
      "source": [
        "#2. What is the difference between string and variable?"
      ],
      "metadata": {
        "id": "1arYWYBf1D_H"
      }
    },
    {
      "cell_type": "markdown",
      "source": [
        "Ans: \n",
        "\n",
        "\n",
        "*   Variable is an entity which is used to hold information. A variable is created whenever a value is assigned to it.<br> E.g  `x = 10`, `y = 20` In this case x and y are 2 variables holding numeric values/information.\n",
        "*   String is a character or group of character enclosed in a single or double quotes. <br>\n",
        "`String1 = 'Hello world!'`, `String2 = 'A'` In this case 'Hello world!' and 'A' are 2 examples of string.\n",
        "\n",
        "\n"
      ],
      "metadata": {
        "id": "8oda6jyH1INC"
      }
    },
    {
      "cell_type": "markdown",
      "source": [
        "#3. Describe three different Data Types ?"
      ],
      "metadata": {
        "id": "EvzwxOHe240g"
      }
    },
    {
      "cell_type": "markdown",
      "source": [
        "Ans: Python supports multiple data types some of them are: numeric, boolean, sequence <br>\n",
        "\n",
        "\n",
        "1.   Numeric: This data type includes all the numeric values such as poitive or negative integer/floating numbers and complex numbers. E.g `num_var = 9.8`\n",
        "2.   Boolean: This data type includes only 2 values TRUE and FALSE, boolean data types are useful during conditional operations to execute a set of statements. It is denoted by the class bool.\n",
        "3.   Sequence: sequence is a group of similar or different data types. Sequences allows to store multiple values in an organized and efficient manner. String, list and tuples are examples of sequence data type. E.g `List1 = [1,2,3,4,5,'Hello']`\n",
        "\n"
      ],
      "metadata": {
        "id": "-oAk6Vgj3ACg"
      }
    },
    {
      "cell_type": "markdown",
      "source": [
        "#4. What is an expression made up of? What do all expressions do?"
      ],
      "metadata": {
        "id": "KIKG-vX_6TNA"
      }
    },
    {
      "cell_type": "markdown",
      "source": [
        "Ans: An expression is a combination of values, variables, operators and \n",
        "operands that is interpreted to produce some other value. Expressions are evaluated as per the precedence of its operators.<br>\n",
        "There are various types of expressions such as arithmatic expressions, logical expressions and bitwise operations."
      ],
      "metadata": {
        "id": "Dp_RLzfd6jHt"
      }
    },
    {
      "cell_type": "markdown",
      "source": [
        "#5. This assignment statements, like spam = 10. What is the difference between an expression and a statement?"
      ],
      "metadata": {
        "id": "QRMiJLOGlnx5"
      }
    },
    {
      "cell_type": "markdown",
      "source": [
        "Ans:\n",
        "\n",
        "\n",
        "*   Expression: An expression is a combination of values, variables, operators and operands that is interpreted to produce some other value. Expressions are evaluated as per the precedence of its operators.<br> E.g `10/2` is an expression which can be evaluated.\n",
        "*   Statement: A statement is an instruction that a Python interpreter can execute. There are mainly four types of statements in Python, Print statements, Assignment statements, Conditional statements and Looping statements.<br> E.g. `spam = 10` is an assignment statement\n",
        "\n"
      ],
      "metadata": {
        "id": "5kl8IfBUmFEu"
      }
    },
    {
      "cell_type": "markdown",
      "source": [
        "#6. After running the following code, what does the variable bacon contain?<br>\n",
        "`bacon = 22`<br>\n",
        "`bacon + 1`"
      ],
      "metadata": {
        "id": "tDsCkC9anRxF"
      }
    },
    {
      "cell_type": "markdown",
      "source": [
        "Ans: The variable bacon is set to 22. As the reassignment is not done the value of bacon remains 22."
      ],
      "metadata": {
        "id": "emp5Ws97nX_a"
      }
    },
    {
      "cell_type": "code",
      "source": [
        "bacon = 22\n",
        "bacon + 1\n",
        "print(bacon)"
      ],
      "metadata": {
        "colab": {
          "base_uri": "https://localhost:8080/"
        },
        "id": "RsWkREsZoeVV",
        "outputId": "d05f4cac-3d57-46ce-e5e6-a3c4f8f7ea10"
      },
      "execution_count": null,
      "outputs": [
        {
          "output_type": "stream",
          "name": "stdout",
          "text": [
            "22\n"
          ]
        }
      ]
    },
    {
      "cell_type": "markdown",
      "source": [
        "#7. What should the values of the following two terms be?<br>\n",
        "`'spam'+'spamspam'`<br>\n",
        "`'spam'*3`"
      ],
      "metadata": {
        "id": "mJzIn3-vw6S-"
      }
    },
    {
      "cell_type": "markdown",
      "source": [
        "Ans:\n",
        "*   `'spam'+'spamspam'` is an example of string concatentation.\n",
        "*   `'spam'*3` is an example of string multiplication\n",
        "\n",
        "These both statements result in: `spamspamspam`\n"
      ],
      "metadata": {
        "id": "gFdXBnOFxR99"
      }
    },
    {
      "cell_type": "code",
      "source": [
        "print('spam'+'spamspam') # string concatenation\n",
        "print('spam'*3)          # string multiplication"
      ],
      "metadata": {
        "colab": {
          "base_uri": "https://localhost:8080/"
        },
        "id": "NP94M_ABw5EW",
        "outputId": "6361a41e-c870-432a-f2b5-bcfc8a362837"
      },
      "execution_count": null,
      "outputs": [
        {
          "output_type": "stream",
          "name": "stdout",
          "text": [
            "spamspamspam\n",
            "spamspamspam\n"
          ]
        }
      ]
    },
    {
      "cell_type": "markdown",
      "source": [
        "#8. Why is eggs a valid variable name while 100 is invalid?"
      ],
      "metadata": {
        "id": "_YrTybNnx2wY"
      }
    },
    {
      "cell_type": "markdown",
      "source": [
        "Ans: In Python, Variable names cannot begin with a number.<br>\n",
        "Rules for Python variables:<br>\n",
        "1.   A variable name must start with a letter or the underscore character\n",
        "2.   A variable name cannot start with a number\n",
        "3.   A variable name can only contain alpha-numeric characters and underscores (A-z, 0-9, and _ )\n",
        "4.   Variable names are case-sensitive (var, Var and VAR are three different variables)\n",
        "5.   The reserved keywords cannot be used naming the variable E.g `List`, `Dict`.\n",
        "\n",
        "\n"
      ],
      "metadata": {
        "id": "gfCYgfKhyRAb"
      }
    },
    {
      "cell_type": "code",
      "source": [
        "egg='Eggs'      # Valid variable Initilization\n",
        "print(egg)      # Displays the value of egg ie Ineuron\n",
        "100='hundred'   # Raises a Syntax Error as 100 is not a valid variable name"
      ],
      "metadata": {
        "id": "gZIX7u6QzTCN"
      },
      "execution_count": null,
      "outputs": []
    },
    {
      "cell_type": "markdown",
      "source": [
        "#9. What three functions can be used to get the integer,floating-point number,or string version of a value?"
      ],
      "metadata": {
        "id": "ewID1XEmzN8g"
      }
    },
    {
      "cell_type": "markdown",
      "source": [
        "Ans: The `int()`, `float()` and `str()` functions will return integer,floating-point number,string version of the value passed to them.<br>\n",
        "This is also known as type casting of the variables."
      ],
      "metadata": {
        "id": "VfbW2zjy0FZO"
      }
    },
    {
      "cell_type": "code",
      "source": [
        "print('int() function converts given input 6.1 to int',int(6.1))\n",
        "print('float() function converts given input 61 to float',float(61)) \n",
        "print('str() function converts given input 61 to string',str(61))"
      ],
      "metadata": {
        "colab": {
          "base_uri": "https://localhost:8080/"
        },
        "id": "o2e-aNz2xy8W",
        "outputId": "79fd1eb2-8a16-4d0d-fcbc-95450012d7c5"
      },
      "execution_count": null,
      "outputs": [
        {
          "output_type": "stream",
          "name": "stdout",
          "text": [
            "int() function converts given input 6.1 to int 6\n",
            "float() function converts given input 61 to float 61.0\n",
            "str() function converts given input 61 to string 61\n"
          ]
        }
      ]
    },
    {
      "cell_type": "markdown",
      "source": [
        "#10. Why does this expression cause an error? how can you fix it?<br>\n",
        "`'I have eaten ' + 99 + 'burritos.'`"
      ],
      "metadata": {
        "id": "O0Tc82IL04_O"
      }
    },
    {
      "cell_type": "markdown",
      "source": [
        "Ans: We are getting an error because 99 is not a string and we are trying to concatenate a string with an integer which is not allowed.<br>\n",
        "To resolve this issue we can simply typecast the int 99 into a string and then perform the concatenation operation."
      ],
      "metadata": {
        "id": "GYLGjB0f1L-I"
      }
    },
    {
      "cell_type": "code",
      "source": [
        "print('I have eaten '+str(99)+' burritos') # Coorect wayt to concatenate the string with an int/float"
      ],
      "metadata": {
        "colab": {
          "base_uri": "https://localhost:8080/"
        },
        "id": "FONrzi7H0r4Y",
        "outputId": "77a3cd41-4af9-4be8-e3a0-21ce6b8639c2"
      },
      "execution_count": null,
      "outputs": [
        {
          "output_type": "stream",
          "name": "stdout",
          "text": [
            "I have eaten 99 burritos\n"
          ]
        }
      ]
    }
  ]
}