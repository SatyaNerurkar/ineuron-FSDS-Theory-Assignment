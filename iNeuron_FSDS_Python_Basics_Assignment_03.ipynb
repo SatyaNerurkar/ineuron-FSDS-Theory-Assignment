{
  "nbformat": 4,
  "nbformat_minor": 0,
  "metadata": {
    "colab": {
      "provenance": []
    },
    "kernelspec": {
      "name": "python3",
      "display_name": "Python 3"
    },
    "language_info": {
      "name": "python"
    }
  },
  "cells": [
    {
      "cell_type": "markdown",
      "source": [
        "# Python Basics Assignment 3"
      ],
      "metadata": {
        "id": "4ja9I1d_2RkQ"
      }
    },
    {
      "cell_type": "markdown",
      "source": [
        "The assignment can be found at:"
      ],
      "metadata": {
        "id": "JzyISKiG2Z4y"
      }
    },
    {
      "cell_type": "markdown",
      "source": [
        "1. Why are functions advantageous to have in your programs?"
      ],
      "metadata": {
        "id": "_zMdmGob2gai"
      }
    },
    {
      "cell_type": "markdown",
      "source": [
        "Ans: Advantages of functions are as followed:\n",
        "*   Coding time is reduced because of reusability.\n",
        "*   Code becomes easier to read and thus is easier to debug and maintain\n",
        "*   Complex problem can be divided into simpler and smaller pieces.\n",
        "\n",
        "\n"
      ],
      "metadata": {
        "id": "slh-EdCi2ief"
      }
    },
    {
      "cell_type": "markdown",
      "source": [
        "2. When does the code in a function run: when it's specified or when it's called?"
      ],
      "metadata": {
        "id": "OzpeDzqq4WOd"
      }
    },
    {
      "cell_type": "markdown",
      "source": [
        "Ans: The code in a function executes when the function is called, not when the function is specified.<br>\n",
        "When a function is called the program stops execution of current block of code and begins to execute the first line inside the function."
      ],
      "metadata": {
        "id": "4F5T0_Jj4jgR"
      }
    },
    {
      "cell_type": "code",
      "source": [
        "def greet(name):\n",
        "  print(\"Hello \"+name+'!')\n",
        "\n",
        "print('This is start of code')\n",
        "greet(\"Rahul\")\n",
        "print('This is end of the code')"
      ],
      "metadata": {
        "colab": {
          "base_uri": "https://localhost:8080/"
        },
        "id": "DLa7XLl347wf",
        "outputId": "e672a9df-25a5-4020-e074-1f64fe5ff57b"
      },
      "execution_count": null,
      "outputs": [
        {
          "output_type": "stream",
          "name": "stdout",
          "text": [
            "This is start of code\n",
            "Hello Rahul!\n",
            "This is end of the code\n"
          ]
        }
      ]
    },
    {
      "cell_type": "markdown",
      "source": [
        "3. What statement creates a function?"
      ],
      "metadata": {
        "id": "8FLALcy4ASEC"
      }
    },
    {
      "cell_type": "markdown",
      "source": [
        "Ans: The `def` statement defines a function"
      ],
      "metadata": {
        "id": "T5aP7A6rAUjR"
      }
    },
    {
      "cell_type": "code",
      "source": [
        "def function_name(parameters):\n",
        "    \"\"\"doc string\"\"\"          \n",
        "    #function body\n",
        "    return value"
      ],
      "metadata": {
        "id": "eJVwhod_3wpm"
      },
      "execution_count": null,
      "outputs": []
    },
    {
      "cell_type": "markdown",
      "source": [
        "4. What is the difference between a function and a function call?"
      ],
      "metadata": {
        "id": "gPRgEVGGAiLu"
      }
    },
    {
      "cell_type": "markdown",
      "source": [
        "Ans: A function is a block of code that is executed to perform particular operation.<br>It usually accepts inputs as parameters and returns a result. These parameters are not mandatory.<br> A function call however is a statement used to pass control to a function.\n"
      ],
      "metadata": {
        "id": "e9pJOBSqAw6D"
      }
    },
    {
      "cell_type": "code",
      "source": [
        "# Defining a simple function\n",
        "def greet(name):       \n",
        "  print(\"Hello \"+name+'!')\n",
        "\n",
        "# Calling the function\n",
        "greet(\"Rahul\")  "
      ],
      "metadata": {
        "colab": {
          "base_uri": "https://localhost:8080/"
        },
        "id": "dueLDrdAAnoy",
        "outputId": "5089fe9b-e0f8-4fc9-deb7-484013079261"
      },
      "execution_count": null,
      "outputs": [
        {
          "output_type": "stream",
          "name": "stdout",
          "text": [
            "Hello Rahul!\n"
          ]
        }
      ]
    },
    {
      "cell_type": "markdown",
      "source": [
        "5. How many global scopes are there in a Python program? How many local scopes?"
      ],
      "metadata": {
        "id": "rDUWtllIBl4r"
      }
    },
    {
      "cell_type": "markdown",
      "source": [
        "*   Global scope: A variable created in the main body of the Python code is a global variable and belongs to the global scope. Global variables are available from within any scope, global and local.\n",
        "*   Local scope: A variable created inside a function belongs to the local scope of that function, and can only be used inside that function.\n",
        "\n"
      ],
      "metadata": {
        "id": "8uQ-8U5KCeag"
      }
    },
    {
      "cell_type": "code",
      "source": [
        "#Example of Global Scope\n",
        "x = 300\n",
        "\n",
        "def myfunc():\n",
        "  print(x)\n",
        "\n",
        "myfunc()\n",
        "\n",
        "print(x) "
      ],
      "metadata": {
        "colab": {
          "base_uri": "https://localhost:8080/"
        },
        "id": "wJ_BKOECCv5S",
        "outputId": "99223057-aacf-40dc-d4e0-909fceccd89b"
      },
      "execution_count": null,
      "outputs": [
        {
          "output_type": "stream",
          "name": "stdout",
          "text": [
            "300\n",
            "300\n"
          ]
        }
      ]
    },
    {
      "cell_type": "code",
      "source": [
        "#Example of Local Scope\n",
        "def myfunc():\n",
        "  x = 300\n",
        "  def myinnerfunc():\n",
        "    print(x)\n",
        "  myinnerfunc()\n",
        "\n",
        "myfunc() "
      ],
      "metadata": {
        "colab": {
          "base_uri": "https://localhost:8080/"
        },
        "id": "pVjhalL2Bzfx",
        "outputId": "fd58661d-0c90-4d12-9412-fa648df24b63"
      },
      "execution_count": null,
      "outputs": [
        {
          "output_type": "stream",
          "name": "stdout",
          "text": [
            "300\n"
          ]
        }
      ]
    },
    {
      "cell_type": "markdown",
      "source": [
        "6. What happens to variables in a local scope when the function call returns?"
      ],
      "metadata": {
        "id": "qSJb46w2Cyj-"
      }
    },
    {
      "cell_type": "markdown",
      "source": [
        "Ans: When the end of the scope of your variable is reached, your variable is deallocated. This means the memory used by your variable is released.A local variable becomes undefined after the function call completes"
      ],
      "metadata": {
        "id": "arx0Zp3HDOD1"
      }
    },
    {
      "cell_type": "markdown",
      "source": [
        "7. What is the concept of a return value? Is it possible to have a return value in an expression?"
      ],
      "metadata": {
        "id": "mZuENgB2Djl4"
      }
    },
    {
      "cell_type": "markdown",
      "source": [
        "Ans: A return statement is used at the end of the function call which “returns” the result to the caller.<br>The statements after the return statements are not executed and If the return statement is without any expression, then the special value `None` is returned.<br>\n"
      ],
      "metadata": {
        "id": "ojKn8ObSEALS"
      }
    },
    {
      "cell_type": "markdown",
      "source": [
        "8. If a function does not have a return statement, what is the return value of a call to that function?"
      ],
      "metadata": {
        "id": "LUwtPsdmEUxL"
      }
    },
    {
      "cell_type": "markdown",
      "source": [
        "Ans: If the return statement is without any expression, then the special value `None` is returned."
      ],
      "metadata": {
        "id": "Kh4nVwnnFDTG"
      }
    },
    {
      "cell_type": "markdown",
      "source": [
        "9. How do you make a function variable refer to the global variable?"
      ],
      "metadata": {
        "id": "tplOvaMhFULn"
      }
    },
    {
      "cell_type": "markdown",
      "source": [
        "Ans:  A global statement will force a variable in a function to refer to the global variable. If you want to refer to a global variable in a function, you can use the `global` keyword to declare which variables are global."
      ],
      "metadata": {
        "id": "Bl0jGBy_Ffig"
      }
    },
    {
      "cell_type": "markdown",
      "source": [
        "10. What is the data type of None?"
      ],
      "metadata": {
        "id": "WY7ey3atFore"
      }
    },
    {
      "cell_type": "markdown",
      "source": [
        "Ans: The data type of None is `NoneType`."
      ],
      "metadata": {
        "id": "rcJep1SSFu11"
      }
    },
    {
      "cell_type": "markdown",
      "source": [
        "11. What does the sentence import areallyourpetsnamederic do?"
      ],
      "metadata": {
        "id": "gDK3Gv1HFyX_"
      }
    },
    {
      "cell_type": "markdown",
      "source": [
        "Ans: The Python import statement imports code from one module into another program. "
      ],
      "metadata": {
        "id": "8FcFEtTeGMdk"
      }
    },
    {
      "cell_type": "markdown",
      "source": [
        "12. If you had a bacon() feature in a spam module, what would you call it after importing spam?"
      ],
      "metadata": {
        "id": "KpbohwU1GSUg"
      }
    },
    {
      "cell_type": "markdown",
      "source": [
        "Ans: This function can be called with `spam.bacon()`."
      ],
      "metadata": {
        "id": "uo_uJiRuGT04"
      }
    },
    {
      "cell_type": "markdown",
      "source": [
        "13. What can you do to save a programme from crashing if it encounters an error?"
      ],
      "metadata": {
        "id": "q7vRO_uIGa4s"
      }
    },
    {
      "cell_type": "markdown",
      "source": [
        "Ans: We can place the line of code that might cause an error in a try clause and use except block to handle the error as mentioned below:"
      ],
      "metadata": {
        "id": "03RAQkZOGe2A"
      }
    },
    {
      "cell_type": "code",
      "source": [
        "x = int(input(\"Enter a number:\"))\n",
        "y = int(input(\"Enter another number:\"))\n",
        "\n",
        "try:\n",
        "  div = x/y\n",
        "  print(div)\n",
        "except:\n",
        "  print(\"An exception occurred, cannot divide by 0\") "
      ],
      "metadata": {
        "id": "QMoeRKzxF9oT",
        "colab": {
          "base_uri": "https://localhost:8080/"
        },
        "outputId": "dfcbcaa8-0556-480c-c9d0-463a016ecfbd"
      },
      "execution_count": null,
      "outputs": [
        {
          "output_type": "stream",
          "name": "stdout",
          "text": [
            "Enter a number:10\n",
            "Enter another number:0\n",
            "An exception occurred, cannot divide by 0\n"
          ]
        }
      ]
    },
    {
      "cell_type": "markdown",
      "source": [
        "14. What is the purpose of the try clause? What is the purpose of the except clause?"
      ],
      "metadata": {
        "id": "hex2uZFPGkgn"
      }
    },
    {
      "cell_type": "markdown",
      "source": [
        "Ans:The code that could potentially cause an error goes in the `try` clause. The code that executes if an error happens goes in the `except` clause."
      ],
      "metadata": {
        "id": "Fxvytt1vGtc2"
      }
    },
    {
      "cell_type": "code",
      "source": [
        "x = int(input(\"Enter a number:\"))\n",
        "y = int(input(\"Enter another number:\"))\n",
        "\n",
        "try:\n",
        "  div = x/y\n",
        "  print(div)\n",
        "except:\n",
        "  print(\"An exception occurred, cannot divide by 0\") "
      ],
      "metadata": {
        "colab": {
          "base_uri": "https://localhost:8080/"
        },
        "id": "OS_OzoqfGkUT",
        "outputId": "7ec1f9c8-c1e8-4e3b-9fa8-85f0b95c79cf"
      },
      "execution_count": null,
      "outputs": [
        {
          "output_type": "stream",
          "name": "stdout",
          "text": [
            "Enter a number:10\n",
            "Enter another number:0\n",
            "An exception occurred, cannot divide by 0\n"
          ]
        }
      ]
    }
  ]
}